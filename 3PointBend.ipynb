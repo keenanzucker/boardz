{
 "cells": [
  {
   "cell_type": "code",
   "execution_count": 12,
   "metadata": {
    "collapsed": false
   },
   "outputs": [
    {
     "name": "stdout",
     "output_type": "stream",
     "text": [
      "      Time Extension      Load\n",
      "0    (sec)      (mm)       (N)\n",
      "1  0.00000   0.00000  -0.04164\n",
      "2  0.10000  -0.01620   0.02158\n",
      "3  0.20000  -0.05052   0.05305\n",
      "4  0.30000  -0.08526   0.05269\n",
      "      Time Extension      Load\n",
      "1  0.00000   0.00000  -0.04164\n",
      "2  0.10000  -0.01620   0.02158\n",
      "3  0.20000  -0.05052   0.05305\n",
      "4  0.30000  -0.08526   0.05269\n",
      "5  0.40000  -0.11802   0.05204\n"
     ]
    }
   ],
   "source": [
    "%matplotlib inline\n",
    "import pandas as pd\n",
    "import seaborn as sns\n",
    "import matplotlib.pyplot as plt\n",
    "import numpy as np\n",
    "import re\n",
    "import matplotlib.pyplot as plt\n",
    "\n",
    "\n",
    "fiber_bend_data= pd.read_csv('./data/FiberBend/Raw25-15-1.csv')\n",
    "\n",
    "print fiber_bend_data.head()\n",
    "\n",
    "df = fiber_bend_data[1:]\n",
    "print df.head()"
   ]
  },
  {
   "cell_type": "code",
   "execution_count": 47,
   "metadata": {
    "collapsed": true
   },
   "outputs": [],
   "source": [
    "def makeDataframe(csvPath):\n",
    "    df = pd.read_csv(csvPath)\n",
    "    df = df[1:]\n",
    "    return df"
   ]
  },
  {
   "cell_type": "code",
   "execution_count": 78,
   "metadata": {
    "collapsed": false
   },
   "outputs": [
    {
     "name": "stdout",
     "output_type": "stream",
     "text": [
      "      Time Extension      Load\n",
      "1  0.00000   0.00000  -0.04164\n",
      "2  0.10000  -0.01620   0.02158\n",
      "3  0.20000  -0.05052   0.05305\n",
      "4  0.30000  -0.08526   0.05269\n",
      "5  0.40000  -0.11802   0.05204\n"
     ]
    }
   ],
   "source": [
    "df = makeDataframe('./data/FiberBend/Raw25-15-1.csv')\n",
    "print df.head()"
   ]
  },
  {
   "cell_type": "code",
   "execution_count": 77,
   "metadata": {
    "collapsed": false
   },
   "outputs": [],
   "source": [
    "def graphDataframe(df):\n",
    "    \n",
    "    ext = df['Extension']\n",
    "    load = df['Load']\n",
    "\n",
    "    ext = [float(x) for x in ext]\n",
    "    load = [float(y) for y in load]\n",
    "    fig = plt.figure()\n",
    "    \n",
    "    fig.set_size_inches(10,10)  # OR\n",
    "    plt.scatter(ext, load)\n",
    "\n",
    "    fig.suptitle('Extension vs Load', fontsize=20)\n",
    "    plt.xlabel('Extension (mm)', fontsize=18)\n",
    "    plt.ylabel('Load (N)', fontsize=16)\n",
    "    # fig.savefig('time_compressiveLoad_4pointTest.jpg')\n",
    "\n",
    "    plt.show()\n"
   ]
  },
  {
   "cell_type": "code",
   "execution_count": 76,
   "metadata": {
    "collapsed": false
   },
   "outputs": [],
   "source": [
    "def opposite(x):\n",
    "    return -float(x)\n",
    "\n",
    "def rotateGraph(df):\n",
    "    \"\"\"Returns opposites of values so graphs are correct with values\"\"\"    \n",
    "    df['Extension'] = df['Extension'].apply(opposite)\n",
    "    df['Load'] = df['Load'].apply(opposite)\n",
    "\n",
    "    return df\n",
    "        "
   ]
  },
  {
   "cell_type": "code",
   "execution_count": null,
   "metadata": {
    "collapsed": false
   },
   "outputs": [],
   "source": []
  },
  {
   "cell_type": "code",
   "execution_count": 79,
   "metadata": {
    "collapsed": false
   },
   "outputs": [
    {
     "data": {
      "image/png": "[encoded data removed]",
      "text/plain": [
       "<matplotlib.figure.Figure at 0x7fddfc554a90>"
      ]
     },
     "metadata": {},
     "output_type": "display_data"
    }
   ],
   "source": [
    "df = makeDataframe('./data/FiberBend/Raw25-15-1.csv')\n",
    "df = rotateGraph(df)\n",
    "graphDataframe(df)"
   ]
  },
  {
   "cell_type": "markdown",
   "metadata": {},
   "source": []
  },
  {
   "cell_type": "code",
   "execution_count": null,
   "metadata": {
    "collapsed": true
   },
   "outputs": [],
   "source": []
  },
  {
   "cell_type": "code",
   "execution_count": null,
   "metadata": {
    "collapsed": true
   },
   "outputs": [],
   "source": []
  },
  {
   "cell_type": "code",
   "execution_count": null,
   "metadata": {
    "collapsed": true
   },
   "outputs": [],
   "source": []
  }
 ],
 "metadata": {
  "kernelspec": {
   "display_name": "Python 2",
   "language": "python",
   "name": "python2"
  },
  "language_info": {
   "codemirror_mode": {
    "name": "ipython",
    "version": 2
   },
   "file_extension": ".py",
   "mimetype": "text/x-python",
   "name": "python",
   "nbconvert_exporter": "python",
   "pygments_lexer": "ipython2",
   "version": "2.7.11"
  }
 },
 "nbformat": 4,
 "nbformat_minor": 0
}
